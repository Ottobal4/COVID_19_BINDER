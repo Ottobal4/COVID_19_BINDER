{
 "cells": [
  {
   "cell_type": "markdown",
   "metadata": {},
   "source": [
    "[DIY Covid-19 Dashboard Kit](https://github.com/fsmeraldi/diy-covid19dash) (C) Fabrizio Smeraldi, 2020 ([f.smeraldi@qmul.ac.uk](mailto:f.smeraldi@qmul.ac.uk) - [web](http://www.eecs.qmul.ac.uk/~fabri/)). All rights reserved."
   ]
  },
  {
   "cell_type": "markdown",
   "metadata": {},
   "source": [
    "# DIY Covid-19 Dashboard"
   ]
  },
  {
   "cell_type": "markdown",
   "metadata": {},
   "source": [
    "This is a template for your DIY Covid Dashboard, to which you can add the code you developed in the previous notebooks. The dashboard will be displayed using [voila](https://voila.readthedocs.io/en/stable/index.html), a Python dashboarding tool that converts notebooks to standalone dashboards. Contrary to the other libraries we have seen, the ```voila``` package must be installed using *pip* or *conda* but it does not need to be imported - it rather acts at the level of the notebook server. Package ```voila``` is already installed on the EECS JupyterHub as well as in the binder - to install it locally, follow the [instructions](https://voila.readthedocs.io/en/stable/install.html) online.\n",
    "\n",
    "Broadly speaking, Voila acts by **running all the cells in your notebook** when the dashboard is first loaded; it then hides all code cells and displays all markdown cells and any outputs, including widgets. However, the code is still there in the background and handles any interaction with the widgets. To view this dashboard template rendered in Voila click [here](https://mybinder.org/v2/gh/fsmeraldi/diy-covid19dash/main?urlpath=%2Fvoila%2Frender%2FDashboard.ipynb)."
   ]
  },
  {
   "cell_type": "code",
   "execution_count": 1,
   "metadata": {},
   "outputs": [],
   "source": [
    "import ipywidgets as wdg\n",
    "import pandas as pd\n",
    "import numpy as np\n",
    "import matplotlib.pyplot as plt\n",
    "import json\n",
    "from uk_covid19 import Cov19API"
   ]
  },
  {
   "cell_type": "code",
   "execution_count": 2,
   "metadata": {},
   "outputs": [],
   "source": [
    "%matplotlib inline\n",
    "# make figures larger\n",
    "plt.rcParams['figure.dpi'] = 100"
   ]
  },
  {
   "cell_type": "code",
   "execution_count": 3,
   "metadata": {},
   "outputs": [],
   "source": [
    "### GETS THE DATA FOR THE TIMECUMCASES GRAPH\n",
    "filters = ['areaType=nation', 'areaName=England']\n",
    "structure = {\n",
    "    'date' : 'date',\n",
    "    'newCases' : 'newCasesByPublishDate',\n",
    "    'cumCases' : 'cumCasesByPublishDate',\n",
    "    'newDeaths' : 'newDeaths28DaysByDeathDate',\n",
    "    'cumDeaths' : 'cumDeaths28DaysByDeathDate',\n",
    "    'males' : 'maleCases',\n",
    "    'females' : 'femaleCases'\n",
    "}\n",
    "api = Cov19API(filters=filters, structure=structure)\n",
    "timecumcases = api.get_json()\n",
    "mf_cases = api.get_json()"
   ]
  },
  {
   "cell_type": "code",
   "execution_count": 4,
   "metadata": {},
   "outputs": [],
   "source": [
    "#print(timecumcases)"
   ]
  },
  {
   "cell_type": "code",
   "execution_count": 5,
   "metadata": {},
   "outputs": [],
   "source": [
    "#print(mf_cases)"
   ]
  },
  {
   "cell_type": "markdown",
   "metadata": {},
   "source": [
    "## Load initial data from disk\n",
    "\n",
    "You should include \"canned\" data in ```.json``` files along with your dashboard. When the dashboard starts, it should load that data (the code below will be hidden when the dashboard is rendered by Voila)."
   ]
  },
  {
   "cell_type": "code",
   "execution_count": 6,
   "metadata": {},
   "outputs": [],
   "source": [
    "### OPENS TIMECUMCASES JSON\n",
    "with open ('timecumcases.json', 'rt') as INFILEtcc:\n",
    "    data = json.load(INFILEtcc)"
   ]
  },
  {
   "cell_type": "code",
   "execution_count": 7,
   "metadata": {
    "scrolled": true
   },
   "outputs": [],
   "source": [
    "### CREATING THE DATALIST\n",
    "datalist = data['data']\n",
    "#print(data)"
   ]
  },
  {
   "cell_type": "code",
   "execution_count": 8,
   "metadata": {},
   "outputs": [],
   "source": [
    "### SORTING BY DATE\n",
    "dates = [dictionary['date'] for dictionary in datalist]\n",
    "dates.sort()"
   ]
  },
  {
   "cell_type": "code",
   "execution_count": 9,
   "metadata": {},
   "outputs": [],
   "source": [
    "def parse_date(datestring):\n",
    "    \"\"\" Convert a date string into a pandas datetime object \"\"\"\n",
    "    return pd.to_datetime(datestring, format= '%Y-%m-%d')"
   ]
  },
  {
   "cell_type": "code",
   "execution_count": 10,
   "metadata": {},
   "outputs": [
    {
     "name": "stdout",
     "output_type": "stream",
     "text": [
      "2020-01-03 00:00:00  to  2020-11-25 00:00:00\n"
     ]
    }
   ],
   "source": [
    "### SHOWS THE FORMAT OF THE DATE LIST\n",
    "startdate = parse_date(dates[0])\n",
    "enddate = parse_date(dates[-1])\n",
    "print(startdate, ' to ', enddate)"
   ]
  },
  {
   "cell_type": "code",
   "execution_count": 11,
   "metadata": {},
   "outputs": [],
   "source": [
    "### OPENS MF_CASES JSON\n",
    "with open ('mf_cases.json', 'rt') as INFILEmf:\n",
    "    data = json.load(INFILEmf)"
   ]
  },
  {
   "cell_type": "code",
   "execution_count": 12,
   "metadata": {
    "scrolled": true
   },
   "outputs": [],
   "source": [
    "\n",
    "datadic = data['data'][1]\n",
    "#print(datadic)\n",
    "\n",
    "males = datadic['males']\n",
    "females = datadic['females']\n",
    "ageranges = []\n",
    "\n",
    "\n",
    "ageranges = [x['age'] for x in males]\n",
    "#print(ageranges)"
   ]
  },
  {
   "cell_type": "code",
   "execution_count": 13,
   "metadata": {},
   "outputs": [],
   "source": [
    "def min_age(agerange):\n",
    "    agerange = agerange.replace('+', '')\n",
    "    start = agerange.split('_')[0]\n",
    "    return int(start)\n",
    "\n",
    "ageranges.sort(key = min_age)\n",
    "#print(ageranges)"
   ]
  },
  {
   "cell_type": "code",
   "execution_count": 14,
   "metadata": {},
   "outputs": [],
   "source": [
    "mf_casesdf = pd.DataFrame(index = ageranges, columns = ['males', 'females', 'total'])"
   ]
  },
  {
   "cell_type": "code",
   "execution_count": 15,
   "metadata": {},
   "outputs": [],
   "source": [
    "### SAVES DATA FOR BOTH GRAPHS AS JSON FILES\n",
    "with open('timecumcases.json', 'wt') as OUTFILEtcc:\n",
    "    json.dump(timecumcases, OUTFILEtcc)\n",
    "with open('timecumcases.json', 'wt') as OUTFILEmf:\n",
    "    json.dump(mf_cases, OUTFILEmf)\n"
   ]
  },
  {
   "cell_type": "markdown",
   "metadata": {},
   "source": [
    "## Wrangle the data\n",
    "\n",
    "The dashboard should contain the logic to wrangle the raw data into a ```DataFrame``` (or more than one, as required) that will be used for plotting. The wrangling code should be put into a function and called on the data from the JSON file (we'll need to call it again on any data downloaded from the API).  In this template, we just pretend we are wrangling ```rawdata``` and generate a dataframe with some random data"
   ]
  },
  {
   "cell_type": "code",
   "execution_count": 16,
   "metadata": {},
   "outputs": [],
   "source": [
    "index = pd.date_range(startdate, enddate, freq='D')\n",
    "timecumcasesdf = pd.DataFrame(index = index, columns = ['newCases', 'cumCases', 'newDeaths', 'cumDeaths'])\n",
    "\n",
    "def wrangle_data(rawdata):\n",
    "    \"\"\"Parameters: rawdata - data from json file or API call. Returns a dataframe.\n",
    "    Edit to include the code that wrangles the data, creates the dataframe and fills it in.\"\"\"\n",
    "    for entry in datalist:\n",
    "        date = parse_date(entry['date'])\n",
    "    for column in [\n",
    "        'newCases', 'cumCases', 'newDeaths','cumDeaths']:\n",
    "        if pd.isna(timecumcasesdf.loc[date, column]):\n",
    "            value = float(entry[column]) if entry[column] != None else 0.0\n",
    "            timecumcasesdf.loc[date, column] = value\n",
    "    timecumcasesdf.fillna(0.0, inplace = True)\n",
    "    return timecumcasesdf\n",
    "\n",
    "\n",
    "timecumcasesdf = wrangle_data(timecumcasesdf)\n",
    "#timecumcasesdf"
   ]
  },
  {
   "cell_type": "code",
   "execution_count": 17,
   "metadata": {},
   "outputs": [],
   "source": [
    "def mf_wrangle(rawdata):\n",
    "    for entry in males:\n",
    "        ageband = entry['age']\n",
    "        mf_casesdf.loc[ageband, 'males'] = entry['value']\n",
    "\n",
    "    for entry in females:\n",
    "        ageband = entry['age']\n",
    "        mf_casesdf.loc[ageband, 'females'] = entry['value']\n",
    "    return mf_casesdf, ageband\n",
    "\n",
    "mf_casesdf['total'] = mf_casesdf['males'] + mf_casesdf['females']\n",
    "#print(mf_casesdf)"
   ]
  },
  {
   "cell_type": "markdown",
   "metadata": {},
   "source": [
    "## Download current data"
   ]
  },
  {
   "cell_type": "markdown",
   "metadata": {},
   "source": [
    "Give your users an option to refresh the dataset - a \"refresh\" button will do. The button callback should\n",
    "* call the code that accesses the API and download some fresh raw data;\n",
    "* wrangle that data into a dataframe and update the corresponding (global) variable for plotting;\n",
    "* optionally: force a redraw of the graph and give the user some fredback.\n",
    "\n",
    "Once you get it to work, you may want to wrap your API call inside an exception handler, so that the user is informed, the \"canned\" data are not overwritten and nothing crashes if for any reason the server cannot be reached or data are not available.\n",
    "\n",
    "After you refresh the data, graphs will not update until the user interacts with a widget. You can trick ```iPywidgets``` into redrawing the graph by simulating interaction, as in the ```refresh_graph``` function we define in the Graph and Analysis section below.\n",
    "\n",
    "Clicking on the button below just generates some more random data and refreshes the graph. The button should read *Fetch Data*. If you see anything else, take a deep breath :)"
   ]
  },
  {
   "cell_type": "code",
   "execution_count": 18,
   "metadata": {},
   "outputs": [],
   "source": [
    "# Button to access API\n",
    "def access_api(button):\n",
    "    \"\"\" Accesses the PHE API. Returns raw data in the same format as data loaded from the \"canned\" JSON file. \"\"\"\n",
    "    print(\"I'm downloading data from the API...\")\n",
    "    print(\"... all done.\")\n"
   ]
  },
  {
   "cell_type": "code",
   "execution_count": 19,
   "metadata": {},
   "outputs": [],
   "source": [
    "# Printout from this function will be lost in Voila unless captured in an\n",
    "# output widget - therefore, we give feedback to the user by changing the \n",
    "# appearance of the button\n",
    "def api_button_callback(button):\n",
    "    \"\"\" Button callback - it must take the button as its parameter (unused in this case).\n",
    "    Accesses API, wrangles data, updates global variable df used for plotting. \"\"\"\n",
    "    # Get fresh data from the API. If you have time, include some error handling\n",
    "    # around this call.\n",
    "    apidata=access_api()\n",
    "    # wrangle the data and overwrite the dataframe for plotting\n",
    "    global df\n",
    "    df=wrangle_data(apidata)\n",
    "    # the graph won't refresh until the user interacts with the widget.\n",
    "    # this function simulates the interaction, see Graph and Analysis below.\n",
    "    # you can omit this step in the first instance\n",
    "    refresh_graph()\n",
    "    # after all is done, you can switch the icon on the button to a \"check\" sign\n",
    "    # and optionally disable the button - it won't be needed again. You can use icons\n",
    "    # \"unlink\" or \"times\" and change the button text to \"Unavailable\" in case the \n",
    "    # api call fails.\n",
    "    apibutton.icon=\"check\"\n",
    "    # apibutton.disabled=True\n",
    "\n",
    "    \n",
    "    \n",
    "apibutton = wdg.Button(description = 'Refresh Data',\n",
    "                      disabled = False,\n",
    "                      button_style = 'info', \n",
    "                      tooltip = 'Click to download the current Public Health england data',\n",
    "                      icon = 'download' \n",
    "                      )\n",
    "\n",
    "            # register the callback with the button\n",
    "apibutton.on_click(access_api)\n",
    "\n",
    "            # used to display the widgets\n",
    "#display(apibutton)"
   ]
  },
  {
   "cell_type": "code",
   "execution_count": 20,
   "metadata": {},
   "outputs": [],
   "source": [
    "### SAVES DATA FOR BOTH GRAPHS AS JSON FILES\n",
    "with open('timecumcases.json', 'wt') as OUTFILEtcc:\n",
    "    json.dump(timecumcases, OUTFILEtcc)\n",
    "with open('mf_cases.json', 'wt') as OUTFILEmf:\n",
    "    json.dump(mf_cases, OUTFILEmf)\n"
   ]
  },
  {
   "cell_type": "markdown",
   "metadata": {},
   "source": [
    "## Graphs and Analysis"
   ]
  },
  {
   "cell_type": "markdown",
   "metadata": {},
   "source": [
    "Include at least one graph with interactive controls, as well as some instructions for the user and/or comments on what the graph represents and how it should be explored (this example shows two random walks)"
   ]
  },
  {
   "cell_type": "code",
   "execution_count": 21,
   "metadata": {},
   "outputs": [
    {
     "data": {
      "application/vnd.jupyter.widget-view+json": {
       "model_id": "71a1c8caedcf4d689d58396568595577",
       "version_major": 2,
       "version_minor": 0
      },
      "text/plain": [
       "HBox(children=(Output(), VBox(children=(SelectMultiple(description='Stats: ', index=(0, 1, 2, 3), options=('ne…"
      ]
     },
     "metadata": {},
     "output_type": "display_data"
    }
   ],
   "source": [
    "timecumcasesdf = pd.read_pickle('timecumcasesdf.pkl')\n",
    "\n",
    "series = wdg.SelectMultiple(\n",
    "    options = [\n",
    "        'newCases', 'cumCases', 'newDeaths','cumDeaths'], \n",
    "    value = [\n",
    "        'newCases', 'cumCases', 'newDeaths','cumDeaths'], \n",
    "    rows = 3, \n",
    "    description = 'Stats: ',\n",
    "    disabled = False\n",
    ")\n",
    "\n",
    "scale = wdg.RadioButtons(\n",
    "    options = ['linear', 'log'],\n",
    "    # defaults to linear\n",
    "    # layout = {'width' : 'max content'}, if the items names are long\n",
    "    description = 'Scale',\n",
    "    disabled = False\n",
    ")\n",
    "\n",
    "# HBox = Horizzontal box, VBox = vertical box\n",
    "controls = wdg.VBox([series, scale])\n",
    "\n",
    "def timeseries_graph(gcols, gscale):\n",
    "    if gscale == 'Linear':\n",
    "        logscale = False\n",
    "    else:\n",
    "        logscale = True\n",
    "    ncols = len(gcols)\n",
    "    if ncols > 0:\n",
    "        timecumcasesdf[list(gcols)].plot(logy = logscale)\n",
    "        plt.title('Cases/Deaths Graph')\n",
    "        plt.xlabel('Time')\n",
    "        plt.ylabel('Number of cases')\n",
    "    else:\n",
    "        print('Click to start data for graph...')\n",
    "        print('(CNTRL-Click to select more than one category)')\n",
    "\n",
    "graph = wdg.interactive_output(timeseries_graph, \n",
    "                               {'gcols': series, 'gscale': scale})\n",
    "\n",
    "ctrls = wdg.VBox([series, scale, apibutton])\n",
    "\n",
    "form = wdg.HBox([graph, ctrls])\n",
    "\n",
    "display(form)"
   ]
  },
  {
   "cell_type": "code",
   "execution_count": 22,
   "metadata": {},
   "outputs": [
    {
     "data": {
      "application/vnd.jupyter.widget-view+json": {
       "model_id": "c911cf2676af459c80e5d4f9ea9dd9d4",
       "version_major": 2,
       "version_minor": 0
      },
      "text/plain": [
       "HBox(children=(Output(), VBox(children=(SelectMultiple(description='Sex', index=(0, 1), options=('males', 'fem…"
      ]
     },
     "metadata": {},
     "output_type": "display_data"
    }
   ],
   "source": [
    "mf_casesdf = pd.read_pickle('mfcasesdf.pkl')\n",
    "\n",
    "agecols = wdg.SelectMultiple(\n",
    "    options = ['males', 'females', 'total'], \n",
    "    value = ['males', 'females'],\n",
    "    rows = 3,\n",
    "    description = 'Sex',\n",
    "    disabled = False\n",
    ")\n",
    "\n",
    "def age_graph(graphcolumns):\n",
    "    # our callback function\n",
    "    ncols = len(graphcolumns)\n",
    "    if ncols > 0:\n",
    "        mf_casesdf.plot(kind = 'bar',\n",
    "                   y = list(graphcolumns)\n",
    "                   )\n",
    "        plt.title('Male/Female Cases')\n",
    "        plt.xlabel('Age Range')\n",
    "        plt.ylabel('Number of cases')\n",
    "    else:\n",
    "        #if the user has not selected a column, print a message instead\n",
    "        print('Click to start data for graph...')\n",
    "        print('(CNTRL-Click to select more than one category)')\n",
    "        \n",
    "# keep calling age_graph(graphcolumns = value_of_agecols)\n",
    "# capture output in variable output\n",
    "output = wdg.interactive_output(age_graph, {'graphcolumns': agecols})\n",
    "\n",
    "form2 = wdg.VBox([agecols, apibutton])\n",
    "\n",
    "display = wdg.HBox([output, form2])\n",
    "display"
   ]
  },
  {
   "cell_type": "code",
   "execution_count": null,
   "metadata": {},
   "outputs": [],
   "source": []
  },
  {
   "cell_type": "markdown",
   "metadata": {},
   "source": [
    "## Deploying the dashboard\n",
    "\n",
    "Once your code is ready and you are satisfied with the appearance of the graphs, replace all the text boxes above with the explanations you would like a dashboard user to see. The next step is deploying the dashboard online - there are several [options](https://voila.readthedocs.io/en/stable/deploy.html) for this, we suggest deploying as a [Binder](https://mybinder.org/). This is basically the same technique that has been used to package this tutorial and to deploy this template dashboard. The instructions may seem a bit involved, but the actual steps are surprisingly easy - we will be going through them together during a live session. You will need an account on [GitHub](https://github.com/) for this - if you don't have one already, now it's the time to create it. "
   ]
  },
  {
   "cell_type": "markdown",
   "metadata": {},
   "source": [
    "**Author and Copyright Notice** Remember if you deploy this dashboard as a Binder it will be publicly accessible. Take credit for your work! Also acknowledge the data source: *Based on UK Government [data](https://coronavirus.data.gov.uk/) published by [Public Health England](https://www.gov.uk/government/organisations/public-health-england).*"
   ]
  }
 ],
 "metadata": {
  "kernelspec": {
   "display_name": "Python 3",
   "language": "python",
   "name": "python3"
  },
  "language_info": {
   "codemirror_mode": {
    "name": "ipython",
    "version": 3
   },
   "file_extension": ".py",
   "mimetype": "text/x-python",
   "name": "python",
   "nbconvert_exporter": "python",
   "pygments_lexer": "ipython3",
   "version": "3.8.3"
  }
 },
 "nbformat": 4,
 "nbformat_minor": 4
}

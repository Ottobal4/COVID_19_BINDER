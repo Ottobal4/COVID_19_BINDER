{
 "cells": [
  {
   "cell_type": "markdown",
   "metadata": {},
   "source": [
    "(C) Otto Balfour-Oatts 2020. [ec20783@qmul.ac.uk]"
   ]
  },
  {
   "cell_type": "markdown",
   "metadata": {},
   "source": [
    "# COVID 19 Data from Public Health England displayed in graphs:"
   ]
  },
  {
   "cell_type": "markdown",
   "metadata": {},
   "source": [
    "This is a simple dashboard created using data taken from Public Health England on the UK's Coronavirus statistics.\n",
    "\n",
    "The first graph explores the relationships between New Deaths, New Cases, Cumulative Deaths and Cumulative Cases. In order to select one datatype, click on the relevent datatype in the drop down menu to the right of the graph. To compare multiple, shift + click on the datatypes you would like to focus on.\n",
    "\n",
    "The second graph explores the relationship between Male and Female cases split by their age range.\n",
    "\n",
    "Click the 'Refresh Data' icon to retrieve the most up to date information from PHE."
   ]
  },
  {
   "cell_type": "code",
   "execution_count": 1,
   "metadata": {},
   "outputs": [],
   "source": [
    "import ipywidgets as wdg\n",
    "import pandas as pd\n",
    "import numpy as np\n",
    "import matplotlib.pyplot as plt\n",
    "import json\n",
    "from uk_covid19 import Cov19API"
   ]
  },
  {
   "cell_type": "code",
   "execution_count": 2,
   "metadata": {},
   "outputs": [],
   "source": [
    "%matplotlib inline\n",
    "# make figures larger\n",
    "plt.rcParams['figure.dpi'] = 100"
   ]
  },
  {
   "cell_type": "code",
   "execution_count": 3,
   "metadata": {},
   "outputs": [],
   "source": [
    "### GETS THE DATA FOR THE TIMECUMCASES GRAPH\n",
    "filters = ['areaType=nation', 'areaName=England']\n",
    "structure = {\n",
    "    'date' : 'date',\n",
    "    'newCases' : 'newCasesByPublishDate',\n",
    "    'cumCases' : 'cumCasesByPublishDate',\n",
    "    'newDeaths' : 'newDeaths28DaysByDeathDate',\n",
    "    'cumDeaths' : 'cumDeaths28DaysByDeathDate',\n",
    "}\n",
    "api = Cov19API(filters=filters, structure=structure)\n",
    "timecumcases = api.get_json()"
   ]
  },
  {
   "cell_type": "code",
   "execution_count": 4,
   "metadata": {},
   "outputs": [],
   "source": [
    "### GETS THE DATA FOR THE MF CASES GRAPH ###\n",
    "filters = ['areaType=nation', 'areaName=England']\n",
    "structure = {\n",
    "    'date' : 'date',\n",
    "    'males' : 'maleCases',\n",
    "    'females' : 'femaleCases',\n",
    "}\n",
    "mf_api = Cov19API(filters=filters, structure=structure)\n",
    "mf_cases = mf_api.get_json()"
   ]
  },
  {
   "cell_type": "code",
   "execution_count": 5,
   "metadata": {},
   "outputs": [],
   "source": [
    "### OPENS TIMECUMCASES JSON\n",
    "with open ('timecumcases.json', 'rt') as INFILEtcc:\n",
    "    data = json.load(INFILEtcc)"
   ]
  },
  {
   "cell_type": "code",
   "execution_count": 6,
   "metadata": {
    "scrolled": true
   },
   "outputs": [],
   "source": [
    "### CREATING THE DATALIST\n",
    "datalist = data['data']\n",
    "#print(datalist)"
   ]
  },
  {
   "cell_type": "code",
   "execution_count": 7,
   "metadata": {},
   "outputs": [],
   "source": [
    "### SORTING BY DATE\n",
    "dates = [dictionary['date'] for dictionary in datalist]\n",
    "dates.sort()"
   ]
  },
  {
   "cell_type": "code",
   "execution_count": 8,
   "metadata": {},
   "outputs": [],
   "source": [
    "def parse_date(datestring):\n",
    "    \"\"\" Convert a date string into a pandas datetime object \"\"\"\n",
    "    return pd.to_datetime(datestring, format= '%Y-%m-%d')"
   ]
  },
  {
   "cell_type": "code",
   "execution_count": 9,
   "metadata": {},
   "outputs": [],
   "source": [
    "### SHOWS THE FORMAT OF THE DATE LIST\n",
    "startdate = parse_date(dates[0])\n",
    "enddate = parse_date(dates[-1])\n",
    "#print(startdate, ' to ', enddate)"
   ]
  },
  {
   "cell_type": "code",
   "execution_count": 10,
   "metadata": {},
   "outputs": [],
   "source": [
    "### OPENS MF_CASES JSON\n",
    "with open ('mf_cases.json', 'rt') as INFILEmf:\n",
    "    data = json.load(INFILEmf)"
   ]
  },
  {
   "cell_type": "code",
   "execution_count": 11,
   "metadata": {
    "scrolled": true
   },
   "outputs": [],
   "source": [
    "\n",
    "datadic = data['data'][1]\n",
    "#print(datadic)\n",
    "\n",
    "males = datadic['males']\n",
    "females = datadic['females']\n",
    "ageranges = []\n",
    "\n",
    "\n",
    "ageranges = [x['age'] for x in males]\n",
    "#print(ageranges)"
   ]
  },
  {
   "cell_type": "code",
   "execution_count": 12,
   "metadata": {},
   "outputs": [],
   "source": [
    "def min_age(agerange):\n",
    "    agerange = agerange.replace('+', '')\n",
    "    start = agerange.split('_')[0]\n",
    "    return int(start)\n",
    "\n",
    "ageranges.sort(key = min_age)\n",
    "#print(ageranges)"
   ]
  },
  {
   "cell_type": "code",
   "execution_count": 13,
   "metadata": {},
   "outputs": [],
   "source": [
    "mf_casesdf = pd.DataFrame(index = ageranges, columns = ['males', 'females', 'total'])\n",
    "#print (mf_casesdf)"
   ]
  },
  {
   "cell_type": "code",
   "execution_count": 14,
   "metadata": {},
   "outputs": [],
   "source": [
    "index = pd.date_range(startdate, enddate, freq='D')\n",
    "timecumcasesdf = pd.DataFrame(index = index, columns = ['newCases', 'cumCases', 'newDeaths', 'cumDeaths'])\n",
    "\n",
    "def wrangle_data(rawdata):\n",
    "    \"\"\"Parameters: rawdata - data from json file or API call. Returns a dataframe.\"\"\"\n",
    "    for entry in datalist:\n",
    "        #print(entry)\n",
    "        date = parse_date(entry['date'])\n",
    "        for column in ['newCases', 'cumCases', 'newDeaths','cumDeaths']:\n",
    "            if pd.isna(timecumcasesdf.loc[date, column]):\n",
    "                value = float(entry[column]) if entry[column] != None else 0.0\n",
    "                timecumcasesdf.loc[date, column] = value\n",
    "    timecumcasesdf.fillna(0.0, inplace = True)\n",
    "    return timecumcasesdf\n",
    "\n",
    "\n",
    "timecumcasesdf = wrangle_data(datalist)\n",
    "#timecumcasesdf\n"
   ]
  },
  {
   "cell_type": "code",
   "execution_count": 15,
   "metadata": {},
   "outputs": [],
   "source": [
    "### SAVES DATA FOR BOTH GRAPHS AS JSON FILES\n",
    "with open('timecumcases.json', 'wt') as OUTFILEtcc:\n",
    "    json.dump(timecumcases, OUTFILEtcc)\n",
    "with open('mf_cases.json', 'wt') as OUTFILEmf:\n",
    "    json.dump(mf_cases, OUTFILEmf)"
   ]
  },
  {
   "cell_type": "code",
   "execution_count": 16,
   "metadata": {},
   "outputs": [],
   "source": [
    "def mf_wrangle(rawdata):\n",
    "    for entry in males:\n",
    "        ageband = entry['age']\n",
    "        mf_casesdf.loc[ageband, 'males'] = entry['value']\n",
    "\n",
    "    for entry in females:\n",
    "        ageband = entry['age']\n",
    "        mf_casesdf.loc[ageband, 'females'] = entry['value']\n",
    "    mf_casesdf['total'] = mf_casesdf['males'] + mf_casesdf['females']\n",
    "    return mf_casesdf, ageband\n",
    "\n",
    "wrangled_mf = mf_wrangle(mf_casesdf)\n",
    "#print(wrangled_mf)"
   ]
  },
  {
   "cell_type": "code",
   "execution_count": 17,
   "metadata": {},
   "outputs": [],
   "source": [
    "# Button to access API\n",
    "def access_api(button):\n",
    "    \"\"\" Accesses the PHE API. Returns raw data in the same format as data loaded from the \"canned\" JSON file. \"\"\"\n",
    "    print(\"I'm downloading data from the API...\")\n",
    "    print(\"... all done.\")\n"
   ]
  },
  {
   "cell_type": "code",
   "execution_count": 18,
   "metadata": {},
   "outputs": [
    {
     "data": {
      "application/vnd.jupyter.widget-view+json": {
       "model_id": "8d38e70ef7b846b08bdcf8b1b5e48690",
       "version_major": 2,
       "version_minor": 0
      },
      "text/plain": [
       "Button(button_style='info', description='Refresh Data', icon='download', style=ButtonStyle(), tooltip='Click t…"
      ]
     },
     "metadata": {},
     "output_type": "display_data"
    }
   ],
   "source": [
    "# Printout from this function will be lost in Voila unless captured in an\n",
    "# output widget - therefore, we give feedback to the user by changing the \n",
    "# appearance of the button\n",
    "def api_button_callback(button):\n",
    "    \"\"\" Button callback - it must take the button as its parameter (unused in this case).\n",
    "    Accesses API, wrangles data, updates global variable df used for plotting. \"\"\"\n",
    "    # Get fresh data from the API. If you have time, include some error handling\n",
    "    # around this call.\n",
    "    apidata=access_api()\n",
    "    # wrangle the data and overwrite the dataframe for plotting\n",
    "    global df\n",
    "    df=wrangle_data(apidata)\n",
    "    # the graph won't refresh until the user interacts with the widget.\n",
    "    # this function simulates the interaction, see Graph and Analysis below.\n",
    "    # you can omit this step in the first instance\n",
    "    refresh_graph()\n",
    "    # after all is done, you can switch the icon on the button to a \"check\" sign\n",
    "    # and optionally disable the button - it won't be needed again. You can use icons\n",
    "    # \"unlink\" or \"times\" and change the button text to \"Unavailable\" in case the \n",
    "    # api call fails.\n",
    "    apibutton.icon=\"check\"\n",
    "    # apibutton.disabled=True\n",
    "\n",
    "    \n",
    "    \n",
    "apibutton = wdg.Button(description = 'Refresh Data',\n",
    "                      disabled = False,\n",
    "                      button_style = 'info', \n",
    "                      tooltip = 'Click to download the current Public Health england data',\n",
    "                      icon = 'download' \n",
    "                      )\n",
    "\n",
    "            # register the callback with the button\n",
    "apibutton.on_click(access_api)\n",
    "\n",
    "            # used to display the widgets\n",
    "display(apibutton)"
   ]
  },
  {
   "cell_type": "code",
   "execution_count": 19,
   "metadata": {},
   "outputs": [],
   "source": [
    "### SAVES DATA FOR BOTH GRAPHS AS JSON FILES\n",
    "with open('timecumcases.json', 'wt') as OUTFILEtcc:\n",
    "    json.dump(timecumcases, OUTFILEtcc)\n",
    "with open('mf_cases.json', 'wt') as OUTFILEmf:\n",
    "    json.dump(mf_cases, OUTFILEmf)\n"
   ]
  },
  {
   "cell_type": "markdown",
   "metadata": {},
   "source": [
    "# Cases / Deaths Graph"
   ]
  },
  {
   "cell_type": "code",
   "execution_count": 20,
   "metadata": {},
   "outputs": [
    {
     "data": {
      "application/vnd.jupyter.widget-view+json": {
       "model_id": "d6c867ab1580498885ddc85884534395",
       "version_major": 2,
       "version_minor": 0
      },
      "text/plain": [
       "HBox(children=(Output(), VBox(children=(SelectMultiple(description='Stats: ', index=(0, 1, 2, 3), options=('ne…"
      ]
     },
     "metadata": {},
     "output_type": "display_data"
    }
   ],
   "source": [
    "#timecumcasesdf = pd.read_pickle('timecumcasesdf.pkl')\n",
    "\n",
    "series = wdg.SelectMultiple(\n",
    "    options = [\n",
    "        'newCases', 'cumCases', 'newDeaths','cumDeaths'], \n",
    "    value = [\n",
    "        'newCases', 'cumCases', 'newDeaths','cumDeaths'], \n",
    "    rows = 3, \n",
    "    description = 'Stats: ',\n",
    "    disabled = False\n",
    ")\n",
    "\n",
    "scale = wdg.RadioButtons(\n",
    "    options = ['linear', 'log'],\n",
    "    # defaults to linear\n",
    "    # layout = {'width' : 'max content'}, if the items names are long\n",
    "    description = 'Scale',\n",
    "    disabled = False\n",
    ")\n",
    "\n",
    "# HBox = Horizzontal box, VBox = vertical box\n",
    "controls = wdg.VBox([series, scale])\n",
    "\n",
    "def timeseries_graph(gcols, gscale):\n",
    "    if gscale == 'Linear':\n",
    "        logscale = False\n",
    "    else:\n",
    "        logscale = True\n",
    "    ncols = len(gcols)\n",
    "    if ncols > 0:\n",
    "        timecumcasesdf[list(gcols)].plot(logy = logscale)\n",
    "        plt.title('Cases/Deaths Graph')\n",
    "        plt.xlabel('Time')\n",
    "        plt.ylabel('Number of cases')\n",
    "    else:\n",
    "        print('Click to start data for graph...')\n",
    "        print('(CNTRL-Click to select more than one category)')\n",
    "\n",
    "graph = wdg.interactive_output(timeseries_graph, \n",
    "                               {'gcols': series, 'gscale': scale})\n",
    "\n",
    "ctrls = wdg.VBox([series, scale, apibutton])\n",
    "\n",
    "form = wdg.HBox([graph, ctrls])\n",
    "\n",
    "display(form)"
   ]
  },
  {
   "cell_type": "markdown",
   "metadata": {},
   "source": [
    "# Male / Female Cases Graph"
   ]
  },
  {
   "cell_type": "code",
   "execution_count": 21,
   "metadata": {},
   "outputs": [
    {
     "data": {
      "application/vnd.jupyter.widget-view+json": {
       "model_id": "7a4f4c90f46e4c8993c7e6662e002b95",
       "version_major": 2,
       "version_minor": 0
      },
      "text/plain": [
       "HBox(children=(Output(), VBox(children=(SelectMultiple(description='Sex', index=(0, 1), options=('males', 'fem…"
      ]
     },
     "metadata": {},
     "output_type": "display_data"
    }
   ],
   "source": [
    "#mf_casesdf = pd.read_pickle('mfcasesdf.pkl')\n",
    "\n",
    "agecols = wdg.SelectMultiple(\n",
    "    options = ['males', 'females', 'total'], \n",
    "    value = ['males', 'females'],\n",
    "    rows = 3,\n",
    "    description = 'Sex',\n",
    "    disabled = False\n",
    ")\n",
    "\n",
    "def age_graph(graphcolumns):\n",
    "    # our callback function\n",
    "    ncols = len(graphcolumns)\n",
    "    if ncols > 0:\n",
    "        mf_casesdf.plot(kind = 'bar',\n",
    "                   y = list(graphcolumns)\n",
    "                   )\n",
    "        plt.title('Male/Female Cases')\n",
    "        plt.xlabel('Age Range')\n",
    "        plt.ylabel('Number of cases')\n",
    "    else:\n",
    "        #if the user has not selected a column, print a message instead\n",
    "        print('Click to start data for graph...')\n",
    "        print('(CNTRL-Click to select more than one category)')\n",
    "        \n",
    "# keep calling age_graph(graphcolumns = value_of_agecols)\n",
    "# capture output in variable output\n",
    "output = wdg.interactive_output(age_graph, {'graphcolumns': agecols})\n",
    "\n",
    "form2 = wdg.VBox([agecols, apibutton])\n",
    "\n",
    "display = wdg.HBox([output, form2])\n",
    "display"
   ]
  },
  {
   "cell_type": "markdown",
   "metadata": {},
   "source": [
    "*Based on UK Government [data](https://coronavirus.data.gov.uk/) published by [Public Health England](https://www.gov.uk/government/organisations/public-health-england).*"
   ]
  }
 ],
 "metadata": {
  "kernelspec": {
   "display_name": "Python 3",
   "language": "python",
   "name": "python3"
  },
  "language_info": {
   "codemirror_mode": {
    "name": "ipython",
    "version": 3
   },
   "file_extension": ".py",
   "mimetype": "text/x-python",
   "name": "python",
   "nbconvert_exporter": "python",
   "pygments_lexer": "ipython3",
   "version": "3.8.3"
  }
 },
 "nbformat": 4,
 "nbformat_minor": 4
}
